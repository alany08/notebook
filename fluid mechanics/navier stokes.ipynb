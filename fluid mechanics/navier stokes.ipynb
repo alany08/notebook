{
 "cells": [
  {
   "cell_type": "markdown",
   "id": "434f6b68-2183-48d7-a416-599ce4522970",
   "metadata": {},
   "source": [
    "# Navier-Stokes Equation\n",
    "A pretty important equation in fluid mechanics, starting off with \\\n",
    "$F=ma$ \\\n",
    "Resulting in \\\n",
    "$\\rho(\\frac{\\partial v}{\\partial t} + smth) = smth + F$\n"
   ]
  },
  {
   "cell_type": "code",
   "execution_count": null,
   "id": "bbf565ba-1dfb-45b3-a7f7-c629d006586a",
   "metadata": {},
   "outputs": [],
   "source": []
  }
 ],
 "metadata": {
  "kernelspec": {
   "display_name": "Python 3 (ipykernel)",
   "language": "python",
   "name": "python3"
  },
  "language_info": {
   "codemirror_mode": {
    "name": "ipython",
    "version": 3
   },
   "file_extension": ".py",
   "mimetype": "text/x-python",
   "name": "python",
   "nbconvert_exporter": "python",
   "pygments_lexer": "ipython3",
   "version": "3.13.2"
  }
 },
 "nbformat": 4,
 "nbformat_minor": 5
}
