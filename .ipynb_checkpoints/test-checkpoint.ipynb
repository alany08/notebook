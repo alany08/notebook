{
 "cells": [
  {
   "cell_type": "markdown",
   "id": "25233075-7891-4f8b-9f72-d8ec5ebb0e29",
   "metadata": {
    "jupyter": {
     "source_hidden": true
    }
   },
   "source": [
    "# This is a test in using Manim with Jupyter Notebook! Here's to importing everything!"
   ]
  },
  {
   "cell_type": "code",
   "execution_count": 2,
   "id": "a45ebd02-de4f-4164-ba9d-0ce33d4cf306",
   "metadata": {},
   "outputs": [],
   "source": [
    "from manim import *\n",
    "config.media_embed = True"
   ]
  }
 ],
 "metadata": {
  "kernelspec": {
   "display_name": "Python 3 (ipykernel)",
   "language": "python",
   "name": "python3"
  },
  "language_info": {
   "codemirror_mode": {
    "name": "ipython",
    "version": 3
   },
   "file_extension": ".py",
   "mimetype": "text/x-python",
   "name": "python",
   "nbconvert_exporter": "python",
   "pygments_lexer": "ipython3",
   "version": "3.13.2"
  }
 },
 "nbformat": 4,
 "nbformat_minor": 5
}
